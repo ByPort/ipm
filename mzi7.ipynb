{
  "nbformat": 4,
  "nbformat_minor": 0,
  "metadata": {
    "colab": {
      "name": "mzi7.ipynb",
      "provenance": []
    },
    "kernelspec": {
      "name": "python3",
      "display_name": "Python 3"
    }
  },
  "cells": [
    {
      "cell_type": "code",
      "metadata": {
        "id": "92HxKlCsUgPG",
        "colab_type": "code",
        "colab": {}
      },
      "source": [
        "from collections import namedtuple\n",
        "\n",
        "def inv(n, q):\n",
        "  return egcd(n, q)[0] % q\n",
        "\n",
        "def egcd(a, b):\n",
        "  s0 = 1\n",
        "  s1 = 0\n",
        "  t0 = 0\n",
        "  t1 = 1\n",
        "  while b > 0:\n",
        "    q, r = divmod(a, b)\n",
        "    a, b = b, r\n",
        "    s0, s1, t0, t1 = s1, s0 - q * s1, t1, t0 - q * t1\n",
        "  return s0, t0, a\n",
        "\n",
        "def sqrt(n, q):\n",
        "  assert n < q\n",
        "  for i in range(1, q):\n",
        "    if i * i % q == n:\n",
        "      return (i, q - i)\n",
        "  raise ValueError('sqrt not found')\n",
        "\n",
        "Point = namedtuple('Point', ['x', 'y'])\n",
        "\n",
        "class EC(object):\n",
        "  def __init__(self, a, b, q):\n",
        "    assert 0 < a and a < q and 0 < b and b < q and q > 2\n",
        "    assert (4 * a**3 + 27 * b**2)  % q != 0\n",
        "    self.a = a\n",
        "    self.b = b\n",
        "    self.q = q\n",
        "    self.zero = Point(0, 0)\n",
        "\n",
        "  def is_valid(self, p):\n",
        "    if p == self.zero:\n",
        "      return True\n",
        "    l = (p.y**2) % self.q\n",
        "    r = ((p.x**3) + self.a * p.x + self.b) % self.q\n",
        "    return l == r\n",
        "\n",
        "  def at(self, x):\n",
        "    assert x < self.q\n",
        "    ysq = (x**3 + self.a * x + self.b) % self.q\n",
        "    y, my = sqrt(ysq, self.q)\n",
        "    return Point(x, y), Point(x, my)\n",
        "\n",
        "  def neg(self, p):\n",
        "    return Point(p.x, -p.y % self.q)\n",
        "\n",
        "  def add(self, p1, p2):\n",
        "    if p1 == self.zero:\n",
        "      return p2\n",
        "    if p2 == self.zero:\n",
        "      return p1\n",
        "    if p1.x == p2.x and (p1.y != p2.y or p1.y == 0):\n",
        "      return self.zero\n",
        "    if p1.x == p2.x:\n",
        "      l = (3 * p1.x * p1.x + self.a) * inv(2 * p1.y, self.q) % self.q\n",
        "    else:\n",
        "      l = (p2.y - p1.y) * inv(p2.x - p1.x, self.q) % self.q\n",
        "    x = (l * l - p1.x - p2.x) % self.q\n",
        "    y = (l * (p1.x - x) - p1.y) % self.q\n",
        "    return Point(x, y)\n",
        "\n",
        "  def mul(self, p, n):\n",
        "    r = self.zero\n",
        "    m2 = p\n",
        "    while 0 < n:\n",
        "      if n & 1 == 1:\n",
        "        r = self.add(r, m2)\n",
        "      n, m2 = n >> 1, self.add(m2, m2)\n",
        "    return r\n",
        "\n",
        "  def order(self, g):\n",
        "    assert self.is_valid(g) and g != self.zero\n",
        "    for i in range(1, self.q + 1):\n",
        "      if self.mul(g, i) == self.zero:\n",
        "        return i\n",
        "    raise ValueError('Invalid order')\n",
        "\n",
        "class DiffieHellman(object):\n",
        "  def __init__(self, ec, g):\n",
        "    self.ec = ec\n",
        "    self.g = g\n",
        "    self.n = ec.order(g)\n",
        "\n",
        "  def gen(self, priv):\n",
        "    assert 0 < priv and priv < self.n\n",
        "    return self.ec.mul(self.g, priv)\n",
        "\n",
        "  def secret(self, priv, pub):\n",
        "    assert self.ec.is_valid(pub)\n",
        "    assert self.ec.mul(pub, self.n) == self.ec.zero\n",
        "    return self.ec.mul(pub, priv)"
      ],
      "execution_count": 0,
      "outputs": []
    },
    {
      "cell_type": "code",
      "metadata": {
        "id": "lqMjjEh0UvtO",
        "colab_type": "code",
        "colab": {
          "base_uri": "https://localhost:8080/",
          "height": 34
        },
        "outputId": "c1e21aa7-ff17-4df0-8c20-53f406956a99"
      },
      "source": [
        "ec = EC(1, 18, 19)\n",
        "g, _ = ec.at(7)\n",
        "assert ec.order(g) <= ec.q\n",
        "\n",
        "dh = DiffieHellman(ec, g)\n",
        "\n",
        "apriv = 11\n",
        "apub = dh.gen(apriv)\n",
        "\n",
        "bpriv = 3\n",
        "bpub = dh.gen(bpriv)\n",
        "\n",
        "cpriv = 7\n",
        "cpub = dh.gen(cpriv)\n",
        "\n",
        "apub, bpub, cpub"
      ],
      "execution_count": 4,
      "outputs": [
        {
          "output_type": "execute_result",
          "data": {
            "text/plain": [
              "(Point(x=1, y=1), Point(x=2, y=16), Point(x=15, y=11))"
            ]
          },
          "metadata": {
            "tags": []
          },
          "execution_count": 4
        }
      ]
    },
    {
      "cell_type": "code",
      "metadata": {
        "id": "bw_3j47wWeIo",
        "colab_type": "code",
        "colab": {
          "base_uri": "https://localhost:8080/",
          "height": 34
        },
        "outputId": "792fc6be-529f-469a-f16d-dc71ffbcb6ae"
      },
      "source": [
        "(dh.secret(apriv, bpub) == dh.secret(bpriv, apub)), (dh.secret(apriv, cpub) == dh.secret(cpriv, apub)), (dh.secret(bpriv, cpub) == dh.secret(cpriv, bpub))"
      ],
      "execution_count": 5,
      "outputs": [
        {
          "output_type": "execute_result",
          "data": {
            "text/plain": [
              "(True, True, True)"
            ]
          },
          "metadata": {
            "tags": []
          },
          "execution_count": 5
        }
      ]
    },
    {
      "cell_type": "code",
      "metadata": {
        "id": "tmzoxK1wWju6",
        "colab_type": "code",
        "colab": {
          "base_uri": "https://localhost:8080/",
          "height": 34
        },
        "outputId": "eb0868ec-dc57-4b2c-f335-d9d6eb2ce7c0"
      },
      "source": [
        "(dh.secret(apriv, cpub) != dh.secret(apriv, bpub)), (dh.secret(bpriv, apub) != dh.secret(bpriv, cpub)), (dh.secret(cpriv, bpub) != dh.secret(cpriv, apub))"
      ],
      "execution_count": 6,
      "outputs": [
        {
          "output_type": "execute_result",
          "data": {
            "text/plain": [
              "(True, True, True)"
            ]
          },
          "metadata": {
            "tags": []
          },
          "execution_count": 6
        }
      ]
    }
  ]
}