{
  "nbformat": 4,
  "nbformat_minor": 0,
  "metadata": {
    "colab": {
      "name": "mzi5.ipynb",
      "provenance": [],
      "collapsed_sections": []
    },
    "kernelspec": {
      "name": "python3",
      "display_name": "Python 3"
    }
  },
  "cells": [
    {
      "cell_type": "code",
      "metadata": {
        "id": "XhJn4beEyZbv",
        "colab_type": "code",
        "colab": {}
      },
      "source": [
        "import hashlib\n",
        "\n",
        "def hmac(key, message, hashtype):\n",
        "  hashfunc = hashtype()\n",
        "  outputsize = hashfunc.digest_size\n",
        "  blocksize = hashfunc.block_size\n",
        "\n",
        "  if len(key) > blocksize:\n",
        "    key = hashtype(key).digest()\n",
        "\n",
        "  key.ljust(blocksize, b'\\0')\n",
        "\n",
        "  okeypad = bytes(k ^ 0x5c for k in key)\n",
        "  ikeypad = bytes(k ^ 0x36 for k in key)\n",
        "\n",
        "  return hashtype(okeypad + hashtype(ikeypad + message).digest()).digest()"
      ],
      "execution_count": 0,
      "outputs": []
    },
    {
      "cell_type": "code",
      "metadata": {
        "id": "_4rsE74NzLaX",
        "colab_type": "code",
        "outputId": "421b5d61-9bb6-4252-b23c-7d038ea17e55",
        "colab": {
          "base_uri": "https://localhost:8080/",
          "height": 34
        }
      },
      "source": [
        "key = b'key'\n",
        "message = b'Hello world!'\n",
        "hashtype = hashlib.sha1\n",
        "hashfunc = hashtype()\n",
        "outputsize = hashfunc.digest_size\n",
        "blocksize = hashfunc.block_size\n",
        "\n",
        "outputsize, blocksize"
      ],
      "execution_count": 0,
      "outputs": [
        {
          "output_type": "execute_result",
          "data": {
            "text/plain": [
              "(20, 64)"
            ]
          },
          "metadata": {
            "tags": []
          },
          "execution_count": 7
        }
      ]
    },
    {
      "cell_type": "code",
      "metadata": {
        "id": "2laLm4qn2eX0",
        "colab_type": "code",
        "outputId": "9de6db86-259f-4daa-8ade-c541e50f3db6",
        "colab": {
          "base_uri": "https://localhost:8080/",
          "height": 34
        }
      },
      "source": [
        "if len(key) > blocksize:\n",
        "  key = hashtype(key).digest()\n",
        "\n",
        "key.ljust(blocksize, b'\\0')\n",
        "\n",
        "key"
      ],
      "execution_count": 0,
      "outputs": [
        {
          "output_type": "execute_result",
          "data": {
            "text/plain": [
              "b'key'"
            ]
          },
          "metadata": {
            "tags": []
          },
          "execution_count": 9
        }
      ]
    },
    {
      "cell_type": "code",
      "metadata": {
        "id": "V6UrbKFI4q18",
        "colab_type": "code",
        "outputId": "fb654ea2-d6e6-4118-a5e2-6343805be224",
        "colab": {
          "base_uri": "https://localhost:8080/",
          "height": 34
        }
      },
      "source": [
        "okeypad = bytes(k ^ 0x5c for k in key)\n",
        "ikeypad = bytes(k ^ 0x36 for k in key)\n",
        "\n",
        "okeypad, ikeypad"
      ],
      "execution_count": 0,
      "outputs": [
        {
          "output_type": "execute_result",
          "data": {
            "text/plain": [
              "(b'79%', b']SO')"
            ]
          },
          "metadata": {
            "tags": []
          },
          "execution_count": 10
        }
      ]
    },
    {
      "cell_type": "code",
      "metadata": {
        "id": "SawGLLH647Bc",
        "colab_type": "code",
        "outputId": "74aa14a0-a137-4db1-b1c9-697acfcf846f",
        "colab": {
          "base_uri": "https://localhost:8080/",
          "height": 50
        }
      },
      "source": [
        "hmachash = hashtype(okeypad + hashtype(ikeypad + message).digest()).digest()\n",
        "\n",
        "hmachash, hmachash.hex()"
      ],
      "execution_count": 0,
      "outputs": [
        {
          "output_type": "execute_result",
          "data": {
            "text/plain": [
              "(b'v\\x07\\xdd)\\xa8Ks\\xd9|\\xca\\x03)\\n\\x00!\\x7f\\x7f\\x16/3',\n",
              " '7607dd29a84b73d97cca03290a00217f7f162f33')"
            ]
          },
          "metadata": {
            "tags": []
          },
          "execution_count": 15
        }
      ]
    },
    {
      "cell_type": "code",
      "metadata": {
        "id": "1jMBsEZd5RL5",
        "colab_type": "code",
        "outputId": "99dbd5ac-6c22-45e2-8798-6f6e264b8a49",
        "colab": {
          "base_uri": "https://localhost:8080/",
          "height": 34
        }
      },
      "source": [
        "hmachash == hmac(key, message, hashlib.sha1)"
      ],
      "execution_count": 0,
      "outputs": [
        {
          "output_type": "execute_result",
          "data": {
            "text/plain": [
              "True"
            ]
          },
          "metadata": {
            "tags": []
          },
          "execution_count": 16
        }
      ]
    }
  ]
}