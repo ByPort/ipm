{
  "nbformat": 4,
  "nbformat_minor": 0,
  "metadata": {
    "colab": {
      "name": "mzi4.ipynb",
      "provenance": [],
      "collapsed_sections": []
    },
    "kernelspec": {
      "name": "python3",
      "display_name": "Python 3"
    }
  },
  "cells": [
    {
      "cell_type": "code",
      "metadata": {
        "id": "t0rL-ul-1HDV",
        "colab_type": "code",
        "outputId": "77148e99-f692-4eaf-91bf-207434c1e562",
        "colab": {
          "base_uri": "https://localhost:8080/",
          "height": 34
        }
      },
      "source": [
        "import sympy as sp\n",
        "\n",
        "p = sp.randprime(70000, 2**64)\n",
        "p"
      ],
      "execution_count": 0,
      "outputs": [
        {
          "output_type": "execute_result",
          "data": {
            "text/plain": [
              "16572662579164700693"
            ]
          },
          "metadata": {
            "tags": []
          },
          "execution_count": 2
        }
      ]
    },
    {
      "cell_type": "code",
      "metadata": {
        "id": "5V0ocgvK2GBI",
        "colab_type": "code",
        "outputId": "636851a8-22fb-404f-ee6d-16c0c4204a37",
        "colab": {
          "base_uri": "https://localhost:8080/",
          "height": 34
        }
      },
      "source": [
        "import random\n",
        "\n",
        "g = 1\n",
        "\n",
        "while not sp.is_primitive_root(g, p):\n",
        "  g = random.randint(2, p)\n",
        "\n",
        "g, sp.is_primitive_root(g, p)"
      ],
      "execution_count": 0,
      "outputs": [
        {
          "output_type": "execute_result",
          "data": {
            "text/plain": [
              "(6885018123843965053, True)"
            ]
          },
          "metadata": {
            "tags": []
          },
          "execution_count": 35
        }
      ]
    },
    {
      "cell_type": "code",
      "metadata": {
        "id": "XkD0RCKR5SUS",
        "colab_type": "code",
        "outputId": "0df99f4b-332d-4675-ee4f-7442ae00e39c",
        "colab": {
          "base_uri": "https://localhost:8080/",
          "height": 34
        }
      },
      "source": [
        "x = random.randint(2, p - 2)\n",
        "x"
      ],
      "execution_count": 0,
      "outputs": [
        {
          "output_type": "execute_result",
          "data": {
            "text/plain": [
              "9303200265060640685"
            ]
          },
          "metadata": {
            "tags": []
          },
          "execution_count": 36
        }
      ]
    },
    {
      "cell_type": "code",
      "metadata": {
        "id": "rLpfsX0E5wUa",
        "colab_type": "code",
        "outputId": "b350c442-0d8a-4c0c-f014-9f44f952bb45",
        "colab": {
          "base_uri": "https://localhost:8080/",
          "height": 34
        }
      },
      "source": [
        "y = pow(g, x, p)\n",
        "y"
      ],
      "execution_count": 0,
      "outputs": [
        {
          "output_type": "execute_result",
          "data": {
            "text/plain": [
              "13852129290238616208"
            ]
          },
          "metadata": {
            "tags": []
          },
          "execution_count": 37
        }
      ]
    },
    {
      "cell_type": "code",
      "metadata": {
        "id": "jX4hg1qj5zsB",
        "colab_type": "code",
        "colab": {}
      },
      "source": [
        "pubkey = (y, p, g)\n",
        "privkey = (x, p)"
      ],
      "execution_count": 0,
      "outputs": []
    },
    {
      "cell_type": "code",
      "metadata": {
        "id": "rilIyUc56Gfe",
        "colab_type": "code",
        "outputId": "8e891525-88a2-4393-f255-4b8eb2e85366",
        "colab": {
          "base_uri": "https://localhost:8080/",
          "height": 544
        }
      },
      "source": [
        "import itertools\n",
        "\n",
        "message = 'Hello world! This is not RSA :)'\n",
        "\n",
        "encrypted = [\n",
        "             (pow(g, k, p), m * pow(y, k, p) % p)\n",
        "             for m, k\n",
        "             in zip(\n",
        "                 message.encode('utf-8'),\n",
        "                 itertools.starmap(random.randint, itertools.repeat((2, k - 2))),\n",
        "             )\n",
        "]\n",
        "encrypted"
      ],
      "execution_count": 0,
      "outputs": [
        {
          "output_type": "execute_result",
          "data": {
            "text/plain": [
              "[(9688841716548101165, 3295002949891489328),\n",
              " (11316511431499659270, 4257255753984053861),\n",
              " (4016079122491631011, 4425839237518562944),\n",
              " (8186091576002440434, 14485910891485436242),\n",
              " (5380456789608100820, 10446813264590128557),\n",
              " (5479599399633721717, 13841541541032347893),\n",
              " (13771088050759339009, 2214481459873840222),\n",
              " (5306027072816207058, 5657525373258496133),\n",
              " (820831015708450097, 15459123708291285085),\n",
              " (5734576555946956011, 4082684814514164740),\n",
              " (14845070682079183980, 9715652931522279151),\n",
              " (7450229424453413226, 2359466742190612666),\n",
              " (2381049859882514202, 3505320305062844024),\n",
              " (11939157450144734750, 2259546385997148263),\n",
              " (14593777293690948944, 14228712548029616971),\n",
              " (12045664938370869581, 613653772779496814),\n",
              " (9822661294656070551, 15787621506336856025),\n",
              " (15480242973267363952, 5495676357275715472),\n",
              " (4634513251562105528, 6052317224707929980),\n",
              " (4878448556222204754, 5650642441046021062),\n",
              " (15103402054073919539, 1631027680422406621),\n",
              " (13655223135912918470, 670202578537213042),\n",
              " (3334060537947697771, 2255451636736925535),\n",
              " (10194778493846949320, 4203157005494643594),\n",
              " (2459071335304090690, 12818443928437534984),\n",
              " (1697103850095571651, 5212448748237499999),\n",
              " (4803768045315609636, 11094259037553459762),\n",
              " (7762493573381538694, 11790591064237970854),\n",
              " (3076247177677530191, 13618544487875563804),\n",
              " (16197692669666604491, 11226132205263805413),\n",
              " (78290530121090030, 10481942266065909964)]"
            ]
          },
          "metadata": {
            "tags": []
          },
          "execution_count": 51
        }
      ]
    },
    {
      "cell_type": "code",
      "metadata": {
        "id": "fw6oLv5Y7GFO",
        "colab_type": "code",
        "outputId": "3e41d158-2219-4462-c6fe-b4605f423841",
        "colab": {
          "base_uri": "https://localhost:8080/",
          "height": 34
        }
      },
      "source": [
        "decrypted = bytes(b * pow(a, p - 1 - x, p) % p for a, b in encrypted).decode('utf-8')\n",
        "decrypted"
      ],
      "execution_count": 0,
      "outputs": [
        {
          "output_type": "execute_result",
          "data": {
            "text/plain": [
              "'Hello world! This is not RSA :)'"
            ]
          },
          "metadata": {
            "tags": []
          },
          "execution_count": 52
        }
      ]
    }
  ]
}