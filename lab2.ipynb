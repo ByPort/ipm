{
  "nbformat": 4,
  "nbformat_minor": 0,
  "metadata": {
    "colab": {
      "name": "mzi2.ipynb",
      "provenance": [],
      "collapsed_sections": []
    },
    "kernelspec": {
      "name": "python3",
      "display_name": "Python 3"
    }
  },
  "cells": [
    {
      "cell_type": "code",
      "metadata": {
        "id": "buEDo1LGfWIN",
        "colab_type": "code",
        "colab": {}
      },
      "source": [
        "import copy\n",
        "\n",
        "H_TABLE = [\n",
        "  [0xB1, 0x94, 0xBA, 0xC8, 0x0A, 0x08, 0xF5, 0x3B, 0x36, 0x6D, 0x00, 0x8E, 0x58, 0x4A, 0x5D, 0xE4],\n",
        "  [0x85, 0x04, 0xFA, 0x9D, 0x1B, 0xB6, 0xC7, 0xAC, 0x25, 0x2E, 0x72, 0xC2, 0x02, 0xFD, 0xCE, 0x0D],\n",
        "  [0x5B, 0xE3, 0xD6, 0x12, 0x17, 0xB9, 0x61, 0x81, 0xFE, 0x67, 0x86, 0xAD, 0x71, 0x6B, 0x89, 0x0B],\n",
        "  [0x5C, 0xB0, 0xC0, 0xFF, 0x33, 0xC3, 0x56, 0xB8, 0x35, 0xC4, 0x05, 0xAE, 0xD8, 0xE0, 0x7F, 0x99],\n",
        "  [0xE1, 0x2B, 0xDC, 0x1A, 0xE2, 0x82, 0x57, 0xEC, 0x70, 0x3F, 0xCC, 0xF0, 0x95, 0xEE, 0x8D, 0xF1],\n",
        "  [0xC1, 0xAB, 0x76, 0x38, 0x9F, 0xE6, 0x78, 0xCA, 0xF7, 0xC6, 0xF8, 0x60, 0xD5, 0xBB, 0x9C, 0x4F],\n",
        "  [0xF3, 0x3C, 0x65, 0x7B, 0x63, 0x7C, 0x30, 0x6A, 0xDD, 0x4E, 0xA7, 0x79, 0x9E, 0xB2, 0x3D, 0x31],\n",
        "  [0x3E, 0x98, 0xB5, 0x6E, 0x27, 0xD3, 0xBC, 0xCF, 0x59, 0x1E, 0x18, 0x1F, 0x4C, 0x5A, 0xB7, 0x93],\n",
        "  [0xE9, 0xDE, 0xE7, 0x2C, 0x8F, 0x0C, 0x0F, 0xA6, 0x2D, 0xDB, 0x49, 0xF4, 0x6F, 0x73, 0x96, 0x47],\n",
        "  [0x06, 0x07, 0x53, 0x16, 0xED, 0x24, 0x7A, 0x37, 0x39, 0xCB, 0xA3, 0x83, 0x03, 0xA9, 0x8B, 0xF6],\n",
        "  [0x92, 0xBD, 0x9B, 0x1C, 0xE5, 0xD1, 0x41, 0x01, 0x54, 0x45, 0xFB, 0xC9, 0x5E, 0x4D, 0x0E, 0xF2],\n",
        "  [0x68, 0x20, 0x80, 0xAA, 0x22, 0x7D, 0x64, 0x2F, 0x26, 0x87, 0xF9, 0x34, 0x90, 0x40, 0x55, 0x11],\n",
        "  [0xBE, 0x32, 0x97, 0x13, 0x43, 0xFC, 0x9A, 0x48, 0xA0, 0x2A, 0x88, 0x5F, 0x19, 0x4B, 0x09, 0xA1],\n",
        "  [0x7E, 0xCD, 0xA4, 0xD0, 0x15, 0x44, 0xAF, 0x8C, 0xA5, 0x84, 0x50, 0xBF, 0x66, 0xD2, 0xE8, 0x8A],\n",
        "  [0xA2, 0xD7, 0x46, 0x52, 0x42, 0xA8, 0xDF, 0xB3, 0x69, 0x74, 0xC5, 0x51, 0xEB, 0x23, 0x29, 0x21],\n",
        "  [0xD4, 0xEF, 0xD9, 0xB4, 0x3A, 0x62, 0x28, 0x75, 0x91, 0x14, 0x10, 0xEA, 0x77, 0x6C, 0xDA, 0x1D]\n",
        "]\n",
        "\n",
        "def string_to_bit_array(raw_text):\n",
        "  array = list()\n",
        "  for char in raw_text:\n",
        "    bin_val = bin_value(char, 8)\n",
        "    array.extend([int(x) for x in list(bin_val)])\n",
        "  return array\n",
        "\n",
        "def bit_array_to_string(array):\n",
        "  res = ''.join([chr(int(y, 2)) for y in [''.join([str(x) for x in _bytes]) for _bytes in nsplit(array, 8)]])\n",
        "  return res\n",
        "\n",
        "def bin_value(val, bitsize):\n",
        "  bin_val = bin(val)[2:] if isinstance(val, int) else bin(ord(val))[2:]\n",
        "  if len(bin_val) > bitsize:\n",
        "    raise Exception('binary value larger than the expected size')\n",
        "  while len(bin_val) < bitsize:\n",
        "    bin_val = '0' + bin_val\n",
        "  return bin_val\n",
        "\n",
        "def nsplit(s, n):\n",
        "  return [s[k:k + n] for k in range(0, len(s), n)]\n",
        "\n",
        "def int_to_bit(n):\n",
        "  return [int(digit) for digit in bin(n)[2:]]\n",
        "\n",
        "def bit_to_int(value):\n",
        "  return int(''.join(map(str, value)), 2)"
      ],
      "execution_count": 0,
      "outputs": []
    },
    {
      "cell_type": "code",
      "metadata": {
        "id": "kHaabs0Rf0eK",
        "colab_type": "code",
        "colab": {}
      },
      "source": [
        "class BeLT:\n",
        "  def __init__(self, encode_key):\n",
        "    encode_key = string_to_bit_array(encode_key)\n",
        "    self.sub_keys = nsplit(encode_key, 32)\n",
        "\n",
        "  @staticmethod\n",
        "  def H_get_data_from_table(val):\n",
        "    if '0x' in val:\n",
        "      val = val[2:]\n",
        "      if len(val) > 2:\n",
        "        raise ValueError('cannot transfer data from table')\n",
        "      elif len(val) == 1:\n",
        "        return H_TABLE[int('0x0', 16)][int(val[0], 16)]\n",
        "    return H_TABLE[int(val[0], 16)][int(val[1], 16)]\n",
        "\n",
        "  @staticmethod\n",
        "  def mod_32(a, b, is_plus=True):\n",
        "    int_a = bit_to_int(a)\n",
        "    int_b = bit_to_int(b)\n",
        "    if is_plus:\n",
        "      int_result = (int_a + int_b) % (2 ** 32)\n",
        "    else:\n",
        "      int_result = (int_a - int_b) % (2 ** 32)\n",
        "    result = int_to_bit(int_result)\n",
        "    while len(result) < 32:\n",
        "      result.insert(0, 0)\n",
        "    return result\n",
        "\n",
        "  def G_transition(self, data, num):\n",
        "    int_data = nsplit(data, 8)\n",
        "    new_data = []\n",
        "    for val in int_data:\n",
        "      int_val = bit_to_int(val)\n",
        "      hex_val = str(hex(int_val))\n",
        "      new_data.append(self.H_get_data_from_table(hex_val))\n",
        "\n",
        "    for i in range(len(new_data)):\n",
        "      temp = int_to_bit(new_data[i])\n",
        "      while len(temp) < 8:\n",
        "        temp.insert(0, 0)\n",
        "      new_data[i] = temp\n",
        "\n",
        "    new_data = [item for sublist in new_data for item in sublist]\n",
        "\n",
        "    int_s = bit_to_int(new_data)\n",
        "    int_s = ((int_s >> (32 - num)) | (int_s << num)) & 0xFFFFFFFF\n",
        "    result = int_to_bit(int_s)\n",
        "    while len(result) < 32:\n",
        "      result.insert(0, 0)\n",
        "    return result\n",
        "\n",
        "  @staticmethod\n",
        "  def bit_xor(arr1, arr2):\n",
        "    bit_s = []\n",
        "    for index, item in enumerate(arr1):\n",
        "      bit_s.append(arr1[index] ^ arr2[index])\n",
        "    return bit_s\n",
        "\n",
        "  def calc(self, i, minus, part, g_index, all_keys):\n",
        "    sub_key = copy.deepcopy(all_keys[7 * i - minus - 1])\n",
        "    temp = self.mod_32(part, sub_key)\n",
        "    temp = self.G_transition(temp, g_index)\n",
        "    return temp\n",
        "\n",
        "  def encode(self, raw_text):\n",
        "    raw_text_bits = string_to_bit_array(raw_text)\n",
        "    raw_splitted_text = nsplit(raw_text_bits, 32)\n",
        "    a = raw_splitted_text[0]\n",
        "    b = raw_splitted_text[1]\n",
        "    c = raw_splitted_text[2]\n",
        "    d = raw_splitted_text[3]\n",
        "\n",
        "    all_keys = self.sub_keys * 7\n",
        "\n",
        "    for i in range(1, 9):\n",
        "      temp = self.calc(i, minus=6, part=a, g_index=5, all_keys=all_keys)\n",
        "      b = self.bit_xor(b, temp)\n",
        "\n",
        "      temp = self.calc(i, minus=5, part=d, g_index=21, all_keys=all_keys)\n",
        "      c = self.bit_xor(c, temp)\n",
        "\n",
        "      temp = self.calc(i, minus=4, part=b, g_index=13, all_keys=all_keys)\n",
        "      a = self.mod_32(a, temp, is_plus=False)\n",
        "\n",
        "      sub_key = copy.deepcopy(all_keys[7 * i - 3 - 1])\n",
        "      temp = self.mod_32(b, c)\n",
        "      temp = self.mod_32(temp, sub_key)\n",
        "      temp = self.G_transition(temp, 21)\n",
        "      val_i = i % (2 ** 32)\n",
        "      val_i = int_to_bit(val_i)\n",
        "      while len(val_i) < 32:\n",
        "        val_i.insert(0, 0)\n",
        "      e = self.bit_xor(temp, val_i)\n",
        "\n",
        "      b = self.mod_32(b, e)\n",
        "\n",
        "      c = self.mod_32(c, e, is_plus=False)\n",
        "\n",
        "      temp = self.calc(i, minus=2, part=c, g_index=13, all_keys=all_keys)\n",
        "      d = self.mod_32(d, temp)\n",
        "\n",
        "      temp = self.calc(i, minus=1, part=a, g_index=21, all_keys=all_keys)\n",
        "      b = self.bit_xor(b, temp)\n",
        "\n",
        "      temp = self.calc(i, minus=0, part=d, g_index=5, all_keys=all_keys)\n",
        "      c = self.bit_xor(c, temp)\n",
        "\n",
        "      a, b = b, a\n",
        "\n",
        "      c, d = d, c\n",
        "\n",
        "      b, c = c, b\n",
        "\n",
        "    encoded_text = b + d + a + c\n",
        "    encoded_text = bit_array_to_string(encoded_text)\n",
        "    return encoded_text\n",
        "\n",
        "  def decode(self, encoded_text):\n",
        "    raw_text_bits = string_to_bit_array(encoded_text)\n",
        "    raw_splitted_text = nsplit(raw_text_bits, 32)\n",
        "    a = raw_splitted_text[0]\n",
        "    b = raw_splitted_text[1]\n",
        "    c = raw_splitted_text[2]\n",
        "    d = raw_splitted_text[3]\n",
        "\n",
        "    all_keys = self.sub_keys * 7\n",
        "\n",
        "    for i in range(8, 0, -1):\n",
        "      temp = self.calc(i, minus=0, part=a, g_index=5, all_keys=all_keys)\n",
        "      b = self.bit_xor(b, temp)\n",
        "\n",
        "      temp = self.calc(i, minus=1, part=d, g_index=21, all_keys=all_keys)\n",
        "      c = self.bit_xor(c, temp)\n",
        "\n",
        "      temp = self.calc(i, minus=2, part=b, g_index=13, all_keys=all_keys)\n",
        "      a = self.mod_32(a, temp, is_plus=False)\n",
        "\n",
        "      sub_key = copy.deepcopy(all_keys[7 * i - 3 - 1])\n",
        "      temp = self.mod_32(b, c)\n",
        "      temp = self.mod_32(temp, sub_key)\n",
        "      temp = self.G_transition(temp, 21)\n",
        "      val_i = i % (2 ** 32)\n",
        "      val_i = int_to_bit(val_i)\n",
        "      while len(val_i) < 32:\n",
        "        val_i.insert(0, 0)\n",
        "      e = self.bit_xor(temp, val_i)\n",
        "\n",
        "      b = self.mod_32(b, e)\n",
        "\n",
        "      c = self.mod_32(c, e, is_plus=False)\n",
        "\n",
        "      temp = self.calc(i, minus=4, part=c, g_index=13, all_keys=all_keys)\n",
        "      d = self.mod_32(d, temp)\n",
        "\n",
        "      temp = self.calc(i, minus=5, part=a, g_index=21, all_keys=all_keys)\n",
        "      b = self.bit_xor(b, temp)\n",
        "\n",
        "      temp = self.calc(i, minus=6, part=d, g_index=5, all_keys=all_keys)\n",
        "      c = self.bit_xor(c, temp)\n",
        "\n",
        "      a, b = b, a\n",
        "\n",
        "      c, d = d, c\n",
        "\n",
        "      a, d = d, a\n",
        "\n",
        "    decoded_text = c + a + d + b\n",
        "    decoded_text = bit_array_to_string(decoded_text)\n",
        "    return decoded_text\n",
        "\n",
        "  def simple_change(self, raw_text, is_encode=True):\n",
        "    text = []\n",
        "    raw_text_splitted = nsplit(raw_text, 16)\n",
        "    for part in raw_text_splitted:\n",
        "      if is_encode:\n",
        "        text.append(self.encode(part))\n",
        "      else:\n",
        "        text.append(self.decode(part))\n",
        "\n",
        "    text = ''.join(text)\n",
        "    return text\n",
        "\n",
        "  def block_chaining(self, raw_text, sync, is_encode=True):\n",
        "    text = []\n",
        "    raw_text_splitted = nsplit(raw_text, 16)\n",
        "    temp = self.encode(sync)\n",
        "    for part in raw_text_splitted:\n",
        "      if is_encode:\n",
        "        res = bit_array_to_string(self.bit_xor(string_to_bit_array(temp), string_to_bit_array(part)))\n",
        "        encoded_part = self.encode(res)\n",
        "        text.append(encoded_part)\n",
        "        temp = encoded_part\n",
        "      else:\n",
        "        bit_temp = string_to_bit_array(temp)\n",
        "        ans = bit_array_to_string(self.bit_xor(string_to_bit_array(self.decode(part)), bit_temp))\n",
        "        text.append(ans)\n",
        "        temp = part\n",
        "\n",
        "    text = ''.join(text)\n",
        "    return text\n",
        "\n",
        "  def cipher_feedback(self, raw_text, sync, is_encode=True):\n",
        "    splitted_raw_text = nsplit(raw_text, 16)\n",
        "    text = []\n",
        "    temp = sync\n",
        "    for part in splitted_raw_text:\n",
        "      enc_temp = self.encode(temp)\n",
        "      enc_sliced = enc_temp[:len(part)]\n",
        "      ans = bit_array_to_string(self.bit_xor(string_to_bit_array(part), string_to_bit_array(enc_sliced)))\n",
        "      text.append(ans)\n",
        "      if is_encode:\n",
        "        temp = ans\n",
        "      else:\n",
        "        temp = part\n",
        "\n",
        "    text = ''.join(text)\n",
        "    return text\n",
        "\n",
        "  def counter(self, raw_text, sync):\n",
        "    splitted_raw_text = nsplit(raw_text, 16)\n",
        "    text = []\n",
        "    s = self.encode(sync)\n",
        "    ones = [1 for _ in range(128)]\n",
        "    for part in splitted_raw_text:\n",
        "      s = self.mod_32(string_to_bit_array(s), ones)\n",
        "      s = self.encode(s)\n",
        "      sliced_s = s[:len(part)]\n",
        "      ans = bit_array_to_string(self.bit_xor(string_to_bit_array(part), string_to_bit_array(sliced_s)))\n",
        "      text.append(ans)\n",
        "\n",
        "    text = ''.join(text)\n",
        "    return text"
      ],
      "execution_count": 0,
      "outputs": []
    },
    {
      "cell_type": "code",
      "metadata": {
        "id": "GlLakPIHgGY3",
        "colab_type": "code",
        "colab": {}
      },
      "source": [
        "key = 'sanfksalkfn1esdkmfsdfd23j32fmsdl'\n",
        "sync_send = '1a2b3c4d5d6e7f8g'\n",
        "stb = BeLT(key)\n",
        "\n",
        "text = 'asdfklsajdflkjfj'"
      ],
      "execution_count": 0,
      "outputs": []
    },
    {
      "cell_type": "code",
      "metadata": {
        "id": "N65D38qYgcbI",
        "colab_type": "code",
        "colab": {
          "base_uri": "https://localhost:8080/",
          "height": 34
        },
        "outputId": "f2274b6d-767e-46b2-8be3-06f1ed0f9e90"
      },
      "source": [
        "enc_data = stb.simple_change(text, is_encode=True)\n",
        "enc_data"
      ],
      "execution_count": 7,
      "outputs": [
        {
          "output_type": "execute_result",
          "data": {
            "text/plain": [
              "'Þ@MÐ\\x1c[Ä\\x9d³\\x08J\\x11z*V\\x17'"
            ]
          },
          "metadata": {
            "tags": []
          },
          "execution_count": 7
        }
      ]
    },
    {
      "cell_type": "code",
      "metadata": {
        "id": "_0F2qPmpgea_",
        "colab_type": "code",
        "colab": {
          "base_uri": "https://localhost:8080/",
          "height": 34
        },
        "outputId": "c54b4290-7e68-4f38-888b-5cee02b20d94"
      },
      "source": [
        "dec_data = stb.simple_change(enc_data, is_encode=False)\n",
        "dec_data"
      ],
      "execution_count": 8,
      "outputs": [
        {
          "output_type": "execute_result",
          "data": {
            "text/plain": [
              "'asdfklsajdflkjfj'"
            ]
          },
          "metadata": {
            "tags": []
          },
          "execution_count": 8
        }
      ]
    },
    {
      "cell_type": "code",
      "metadata": {
        "id": "JorSb52jgog5",
        "colab_type": "code",
        "colab": {
          "base_uri": "https://localhost:8080/",
          "height": 34
        },
        "outputId": "a4cf5848-9025-4e5a-bbf7-a77cc45005cf"
      },
      "source": [
        "enc_data = stb.block_chaining(text, sync_send, is_encode=True)\n",
        "enc_data"
      ],
      "execution_count": 9,
      "outputs": [
        {
          "output_type": "execute_result",
          "data": {
            "text/plain": [
              "'$\\x0bòRc°w&\\x1bîûÛÅ\\x9fSP'"
            ]
          },
          "metadata": {
            "tags": []
          },
          "execution_count": 9
        }
      ]
    },
    {
      "cell_type": "code",
      "metadata": {
        "id": "SymhNf_FgrJs",
        "colab_type": "code",
        "colab": {
          "base_uri": "https://localhost:8080/",
          "height": 34
        },
        "outputId": "8549e591-bbac-4291-f6b3-34df1b9069eb"
      },
      "source": [
        "dec_data = stb.block_chaining(enc_data, sync_send, is_encode=False)\n",
        "dec_data"
      ],
      "execution_count": 10,
      "outputs": [
        {
          "output_type": "execute_result",
          "data": {
            "text/plain": [
              "'asdfklsajdflkjfj'"
            ]
          },
          "metadata": {
            "tags": []
          },
          "execution_count": 10
        }
      ]
    },
    {
      "cell_type": "code",
      "metadata": {
        "id": "O24tSUrAgtQG",
        "colab_type": "code",
        "colab": {
          "base_uri": "https://localhost:8080/",
          "height": 34
        },
        "outputId": "be970cd1-ef5b-43b6-81f3-1fcdbdf184b0"
      },
      "source": [
        "enc_data = stb.cipher_feedback(text, sync_send, is_encode=True)\n",
        "enc_data"
      ],
      "execution_count": 11,
      "outputs": [
        {
          "output_type": "execute_result",
          "data": {
            "text/plain": [
              "'\\x91¹l\\x9fgá®Ú^\\x9f[n\\r\\x0eTÇ'"
            ]
          },
          "metadata": {
            "tags": []
          },
          "execution_count": 11
        }
      ]
    },
    {
      "cell_type": "code",
      "metadata": {
        "id": "E-_eeH4ugvP3",
        "colab_type": "code",
        "colab": {
          "base_uri": "https://localhost:8080/",
          "height": 34
        },
        "outputId": "42c08d8e-9b30-4cb3-85bc-3a72fafadde2"
      },
      "source": [
        "dec_data = stb.cipher_feedback(enc_data, sync_send, is_encode=False)\n",
        "dec_data"
      ],
      "execution_count": 12,
      "outputs": [
        {
          "output_type": "execute_result",
          "data": {
            "text/plain": [
              "'asdfklsajdflkjfj'"
            ]
          },
          "metadata": {
            "tags": []
          },
          "execution_count": 12
        }
      ]
    },
    {
      "cell_type": "code",
      "metadata": {
        "id": "FO7MbzRpgxHD",
        "colab_type": "code",
        "colab": {
          "base_uri": "https://localhost:8080/",
          "height": 34
        },
        "outputId": "2b24c9d0-d34b-401e-f139-b2eab9d1b3ad"
      },
      "source": [
        "enc_data = stb.counter(text, sync_send)\n",
        "enc_data"
      ],
      "execution_count": 13,
      "outputs": [
        {
          "output_type": "execute_result",
          "data": {
            "text/plain": [
              "'y\\x1a6ÓaJ\\x94Wx®¬~Ü7V\\x0b'"
            ]
          },
          "metadata": {
            "tags": []
          },
          "execution_count": 13
        }
      ]
    },
    {
      "cell_type": "code",
      "metadata": {
        "id": "TKgQMMBLgzlz",
        "colab_type": "code",
        "colab": {
          "base_uri": "https://localhost:8080/",
          "height": 34
        },
        "outputId": "44ff3cfa-a7f3-42ad-e6f3-8b2f5ca9adee"
      },
      "source": [
        "dec_data = stb.counter(enc_data, sync_send)\n",
        "dec_data"
      ],
      "execution_count": 14,
      "outputs": [
        {
          "output_type": "execute_result",
          "data": {
            "text/plain": [
              "'asdfklsajdflkjfj'"
            ]
          },
          "metadata": {
            "tags": []
          },
          "execution_count": 14
        }
      ]
    }
  ]
}