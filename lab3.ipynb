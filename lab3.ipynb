{
  "nbformat": 4,
  "nbformat_minor": 0,
  "metadata": {
    "colab": {
      "name": "mzi3.ipynb",
      "provenance": [],
      "collapsed_sections": []
    },
    "kernelspec": {
      "name": "python3",
      "display_name": "Python 3"
    }
  },
  "cells": [
    {
      "cell_type": "code",
      "metadata": {
        "id": "q3qYD3Oqmok4",
        "colab_type": "code",
        "outputId": "473ceae7-12e3-43bb-d6ab-9f5f5a98c005",
        "colab": {
          "base_uri": "https://localhost:8080/",
          "height": 34
        }
      },
      "source": [
        "import sympy as sp\n",
        "\n",
        "p = sp.randprime(257, 2**64)\n",
        "q = p\n",
        "while q == p:\n",
        "  q = sp.randprime(257, 2**64)\n",
        "\n",
        "p, q, sp.isprime(p), sp.isprime(q)"
      ],
      "execution_count": 0,
      "outputs": [
        {
          "output_type": "execute_result",
          "data": {
            "text/plain": [
              "(9270854470919281729, 7898957659613472863, True, True)"
            ]
          },
          "metadata": {
            "tags": []
          },
          "execution_count": 28
        }
      ]
    },
    {
      "cell_type": "code",
      "metadata": {
        "id": "TyL4qXsznV7C",
        "colab_type": "code",
        "outputId": "9b563e1a-987f-4b31-a9e2-9cebaeaefa19",
        "colab": {
          "base_uri": "https://localhost:8080/",
          "height": 51
        }
      },
      "source": [
        "n = p * q\n",
        "phi = (p - 1) * (q - 1)\n",
        "\n",
        "n, phi"
      ],
      "execution_count": 0,
      "outputs": [
        {
          "output_type": "execute_result",
          "data": {
            "text/plain": [
              "(73230086934229670818794514415193220127,\n",
              " 73230086934229670801624702284660465536)"
            ]
          },
          "metadata": {
            "tags": []
          },
          "execution_count": 29
        }
      ]
    },
    {
      "cell_type": "code",
      "metadata": {
        "id": "AX9mDDggpHGI",
        "colab_type": "code",
        "outputId": "692116d1-11b9-49a7-fd1e-d09cd6b9c8d6",
        "colab": {
          "base_uri": "https://localhost:8080/",
          "height": 34
        }
      },
      "source": [
        "import math\n",
        "import random\n",
        "\n",
        "e = phi\n",
        "while math.gcd(e, phi) != 1:\n",
        "  e = random.randint(2, phi - 1)\n",
        "\n",
        "e"
      ],
      "execution_count": 0,
      "outputs": [
        {
          "output_type": "execute_result",
          "data": {
            "text/plain": [
              "62593669577002834362577752636578148857"
            ]
          },
          "metadata": {
            "tags": []
          },
          "execution_count": 30
        }
      ]
    },
    {
      "cell_type": "code",
      "metadata": {
        "id": "CvWvUkEdrEl8",
        "colab_type": "code",
        "outputId": "31b5d286-8f93-48d6-8383-52b68b93c349",
        "colab": {
          "base_uri": "https://localhost:8080/",
          "height": 34
        }
      },
      "source": [
        "def egcd(a, b):\n",
        "  if a == 0:\n",
        "    return (b, 0, 1)\n",
        "  g, y, x = egcd(b % a, a)\n",
        "  return (g, x - (b // a) * y, y)\n",
        "\n",
        "def modinv(a, m):\n",
        "  g, x, y = egcd(a, m)\n",
        "  if g != 1:\n",
        "    raise Exception('No modular inverse')\n",
        "  return x % m\n",
        "\n",
        "d = modinv(e, phi)\n",
        "\n",
        "d, d * e % phi"
      ],
      "execution_count": 0,
      "outputs": [
        {
          "output_type": "execute_result",
          "data": {
            "text/plain": [
              "(2553723970685269587052138022239585865, 1)"
            ]
          },
          "metadata": {
            "tags": []
          },
          "execution_count": 31
        }
      ]
    },
    {
      "cell_type": "code",
      "metadata": {
        "id": "gmTfdnKXvTnd",
        "colab_type": "code",
        "outputId": "b28f7af2-5bc9-43f4-df83-6f3f3df9e653",
        "colab": {
          "base_uri": "https://localhost:8080/",
          "height": 85
        }
      },
      "source": [
        "pubkey = (e, n)\n",
        "privkey = (d, n)\n",
        "\n",
        "pubkey, privkey"
      ],
      "execution_count": 0,
      "outputs": [
        {
          "output_type": "execute_result",
          "data": {
            "text/plain": [
              "((62593669577002834362577752636578148857,\n",
              "  73230086934229670818794514415193220127),\n",
              " (2553723970685269587052138022239585865,\n",
              "  73230086934229670818794514415193220127))"
            ]
          },
          "metadata": {
            "tags": []
          },
          "execution_count": 32
        }
      ]
    },
    {
      "cell_type": "code",
      "metadata": {
        "id": "0yBOCz4ewH1k",
        "colab_type": "code",
        "outputId": "48d220d9-0a28-447c-ab56-67d078ef32e9",
        "colab": {
          "base_uri": "https://localhost:8080/",
          "height": 476
        }
      },
      "source": [
        "message = 'Hello world! This is RSA :)'\n",
        "\n",
        "encrypted = [pow(m, e, n) for m in message.encode('utf-8')]\n",
        "\n",
        "encrypted"
      ],
      "execution_count": 0,
      "outputs": [
        {
          "output_type": "execute_result",
          "data": {
            "text/plain": [
              "[8952098897565585927740271439578104797,\n",
              " 10776374226063780362412354304446814559,\n",
              " 56321984287094978180113529712120985912,\n",
              " 56321984287094978180113529712120985912,\n",
              " 12690911996425700501125784632036888577,\n",
              " 58340190653546403906074138038865236157,\n",
              " 41747066057830360984693366145721516398,\n",
              " 12690911996425700501125784632036888577,\n",
              " 13903012070602851913850786967286751134,\n",
              " 56321984287094978180113529712120985912,\n",
              " 43232525060127443905280260328376256740,\n",
              " 36235859914962504675952117087770904797,\n",
              " 58340190653546403906074138038865236157,\n",
              " 3905500181029170544891664452499728930,\n",
              " 70035394012690645331753886835900508080,\n",
              " 13068782263166250971680110716651012118,\n",
              " 66287206360739110219490658050407151344,\n",
              " 58340190653546403906074138038865236157,\n",
              " 13068782263166250971680110716651012118,\n",
              " 66287206360739110219490658050407151344,\n",
              " 58340190653546403906074138038865236157,\n",
              " 31769060820236849299588560988780866167,\n",
              " 22182137862372106501252384047685602673,\n",
              " 64514160680970896450398416540359220708,\n",
              " 58340190653546403906074138038865236157,\n",
              " 9819140436858737122222376807801445784,\n",
              " 66138218125243780135682626432123177486]"
            ]
          },
          "metadata": {
            "tags": []
          },
          "execution_count": 34
        }
      ]
    },
    {
      "cell_type": "code",
      "metadata": {
        "id": "kFlszdPmxIKB",
        "colab_type": "code",
        "outputId": "0973af8f-1ca7-4b71-bda5-9822587d5251",
        "colab": {
          "base_uri": "https://localhost:8080/",
          "height": 34
        }
      },
      "source": [
        "decrypted = bytes(pow(c, d, n) for c in encrypted).decode('utf-8')\n",
        "\n",
        "decrypted"
      ],
      "execution_count": 0,
      "outputs": [
        {
          "output_type": "execute_result",
          "data": {
            "text/plain": [
              "'Hello world! This is RSA :)'"
            ]
          },
          "metadata": {
            "tags": []
          },
          "execution_count": 36
        }
      ]
    }
  ]
}